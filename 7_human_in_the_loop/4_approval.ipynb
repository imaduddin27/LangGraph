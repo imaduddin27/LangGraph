{
 "cells": [
  {
   "cell_type": "code",
   "execution_count": 27,
   "id": "6da39d57",
   "metadata": {},
   "outputs": [],
   "source": [
    "from langgraph.graph import StateGraph, START, END, add_messages\n",
    "from typing import TypedDict, Annotated, List\n",
    "from langgraph.checkpoint.memory import MemorySaver\n",
    "from langchain_groq import ChatGroq\n",
    "from langchain_community.tools import TavilySearchResults\n",
    "from langgraph.prebuilt import ToolNode\n",
    "from langchain_core.messages import HumanMessage\n",
    "from dotenv import load_dotenv\n",
    "\n",
    "load_dotenv()\n",
    "\n",
    "memory=MemorySaver()\n",
    "\n",
    "search_tools = TavilySearchResults(max_results=2)\n",
    "tools = [search_tools]\n",
    "\n",
    "llm = ChatGroq(model_name=\"llama-3.3-70b-versatile\")\n",
    "llm_with_tool = llm.bind_tools(tools)\n",
    "\n",
    "class BasicState(TypedDict):\n",
    "    messages: Annotated[List, add_messages]\n",
    "\n",
    "def model(state: BasicState):\n",
    "    return {\n",
    "        \"messages\": [llm_with_tool.invoke(state[\"messages\"])]\n",
    "    }\n",
    "\n",
    "def tools_router(state: BasicState): \n",
    "    last_message = state[\"messages\"][-1]\n",
    "    if(hasattr(last_message, \"tool_calls\") and \n",
    "    len(last_message.tool_calls) > 0):\n",
    "        return \"tools\"\n",
    "    else: \n",
    "        return END\n",
    "\n",
    "\n",
    "graph = StateGraph(BasicState)\n",
    "graph.add_node(model, \"model\")\n",
    "graph.add_node(\"tools\", ToolNode(tools=tools))\n",
    "\n",
    "graph.set_entry_point(\"model\")\n",
    "graph.add_conditional_edges(\"model\", tools_router)\n",
    "\n",
    "graph.add_edge(\"tools\", \"model\")\n",
    "\n",
    "app = graph.compile(checkpointer=memory, interrupt_before=[\"tools\"])\n",
    "\n"
   ]
  },
  {
   "cell_type": "code",
   "execution_count": 28,
   "id": "3fb4f85c",
   "metadata": {},
   "outputs": [
    {
     "data": {
      "image/png": "[encoded data removed]",
      "text/plain": [
       "<IPython.core.display.Image object>"
      ]
     },
     "metadata": {},
     "output_type": "display_data"
    }
   ],
   "source": [
    "from IPython.display import Image, display\n",
    "\n",
    "display(Image(app.get_graph().draw_mermaid_png()))"
   ]
  },
  {
   "cell_type": "code",
   "execution_count": 29,
   "id": "47fda17d",
   "metadata": {},
   "outputs": [
    {
     "name": "stdout",
     "output_type": "stream",
     "text": [
      "================================\u001b[1m Human Message \u001b[0m=================================\n",
      "\n",
      "What is the current weather in Darmstadt, Germany?\n",
      "==================================\u001b[1m Ai Message \u001b[0m==================================\n",
      "Tool Calls:\n",
      "  tavily_search_results_json (call_bz23)\n",
      " Call ID: call_bz23\n",
      "  Args:\n",
      "    query: current weather Darmstadt Germany\n"
     ]
    }
   ],
   "source": [
    "config = {\"configurable\": {\n",
    "    \"thread_id\": 1\n",
    "}}\n",
    "\n",
    "events = app.stream({\n",
    "    \"messages\": [HumanMessage(content=\"What is the current weather in Darmstadt, Germany?\")]\n",
    "}, config=config, stream_mode=\"values\")\n",
    "\n",
    "for event in events:\n",
    "    event[\"messages\"][-1].pretty_print()"
   ]
  },
  {
   "cell_type": "code",
   "execution_count": 30,
   "id": "0f005116",
   "metadata": {},
   "outputs": [
    {
     "data": {
      "text/plain": [
       "('tools',)"
      ]
     },
     "execution_count": 30,
     "metadata": {},
     "output_type": "execute_result"
    }
   ],
   "source": [
    "snapshot = app.get_state(config=config)\n",
    "snapshot.next"
   ]
  },
  {
   "cell_type": "code",
   "execution_count": 31,
   "id": "696ec15c",
   "metadata": {},
   "outputs": [
    {
     "name": "stdout",
     "output_type": "stream",
     "text": [
      "==================================\u001b[1m Ai Message \u001b[0m==================================\n",
      "Tool Calls:\n",
      "  tavily_search_results_json (call_bz23)\n",
      " Call ID: call_bz23\n",
      "  Args:\n",
      "    query: current weather Darmstadt Germany\n",
      "=================================\u001b[1m Tool Message \u001b[0m=================================\n",
      "Name: tavily_search_results_json\n",
      "\n",
      "[{\"title\": \"Weather in Darmstadt, Germany\", \"url\": \"https://www.weatherapi.com/\", \"content\": \"{'location': {'name': 'Darmstadt', 'region': 'Hessen', 'country': 'Germany', 'lat': 49.8706, 'lon': 8.6494, 'tz_id': 'Europe/Berlin', 'localtime_epoch': 1745532634, 'localtime': '2025-04-25 00:10'}, 'current': {'last_updated_epoch': 1745532000, 'last_updated': '2025-04-25 00:00', 'temp_c': 11.2, 'temp_f': 52.2, 'is_day': 0, 'condition': {'text': 'Partly cloudy', 'icon': '//cdn.weatherapi.com/weather/64x64/night/116.png', 'code': 1003}, 'wind_mph': 2.2, 'wind_kph': 3.6, 'wind_degree': 228, 'wind_dir': 'SW', 'pressure_mb': 1016.0, 'pressure_in': 30.0, 'precip_mm': 0.02, 'precip_in': 0.0, 'humidity': 94, 'cloud': 75, 'feelslike_c': 11.6, 'feelslike_f': 52.8, 'windchill_c': 9.5, 'windchill_f': 49.0, 'heatindex_c': 9.2, 'heatindex_f': 48.5, 'dewpoint_c': 8.0, 'dewpoint_f': 46.4, 'vis_km': 10.0, 'vis_miles': 6.0, 'uv': 0.0, 'gust_mph': 3.2, 'gust_kph': 5.1}}\", \"score\": 0.9534482}, {\"title\": \"Weather for Darmstadt, Hesse, Germany - Time and Date\", \"url\": \"https://www.timeanddate.com/weather/germany/darmstadt\", \"content\": \"Weather in Darmstadt, Hesse, Germany\\n\\nPassing clouds.\\n\\nFeels Like: 49 °FForecast: 60 / 48 °FWind: 3 mph ↑ from South\\n\\nLocation: | Frankfurt-M-Flughafen Airport\\nCurrent Time: | Apr 25, 2025 at 12:12:54 am\\nLatest Report: | Apr 24, 2025 at 11:50 pm\\nVisibility: | N/A\\nPressure: | 30.01 \\\"Hg\\nHumidity: | 100%\\nDew Point: | 50 °F\\nUpcoming 5 hours\\n\\nNow | 1:00 am | 2:00 am | 3:00 am | 4:00 am | 5:00 am\\n |  |  |  |  | \\n50 °F | 48 °F | 48 °F | 48 °F | 48 °F | 48 °F\\nSee more hour-by-hour weather [...] Wind Direction | WSW↑ | N↑ | E↑ | S↑ | NE↑ | NE↑ | ENE↑\\nHumidity | 88% | 87% | 72% | 71% | 84% | 65% | 43%\\nDew Point | 45 °F | 48 °F | 48 °F | 46 °F | 43 °F | 41 °F | 42 °F\\nVisibility | 3 mi | 3 mi | 3 mi | 3 mi | 6 mi | 7 mi | 8 mi\\nProbability of Precipitation | 25% | 27% | 24% | 26% | 0% | 0% | 0%\\nAmount of Rain | 0.02\\\" | 0.02\\\" | 0.02\\\" | 0.02\\\" | - | - | -\\n* Updated Thursday, April 24, 2025 9:42:55 pm Darmstadt time - Weather by CustomWeather, © 2025\", \"score\": 0.93735445}]\n",
      "==================================\u001b[1m Ai Message \u001b[0m==================================\n",
      "\n",
      "The current weather in Darmstadt, Germany is partly cloudy with a temperature of 11.2°C (52.2°F) and a feels-like temperature of 11.6°C (52.8°F). The wind is blowing at 3.6 km/h (2.2 mph) from the southwest, and the humidity is 94%.\n"
     ]
    }
   ],
   "source": [
    "events = app.stream(None, config, stream_mode=\"values\")\n",
    "for event in events:\n",
    "    event[\"messages\"][-1].pretty_print()"
   ]
  },
  {
   "cell_type": "code",
   "execution_count": null,
   "id": "18c679f8",
   "metadata": {},
   "outputs": [],
   "source": []
  }
 ],
 "metadata": {
  "kernelspec": {
   "display_name": "venv",
   "language": "python",
   "name": "python3"
  },
  "language_info": {
   "codemirror_mode": {
    "name": "ipython",
    "version": 3
   },
   "file_extension": ".py",
   "mimetype": "text/x-python",
   "name": "python",
   "nbconvert_exporter": "python",
   "pygments_lexer": "ipython3",
   "version": "3.10.11"
  }
 },
 "nbformat": 4,
 "nbformat_minor": 5
}
