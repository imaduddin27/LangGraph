{
 "cells": [
  {
   "cell_type": "code",
   "execution_count": 1,
   "id": "1b900494",
   "metadata": {},
   "outputs": [
    {
     "name": "stdout",
     "output_type": "stream",
     "text": [
      "Node A\n",
      "Node B\n",
      "[{'node_a': {'value': 'A'}}, {'__interrupt__': (Interrupt(value='Do you want to go to C or D? Type C/D', resumable=True, ns=['node_b:247c6aff-a99c-5aaa-a0f7-cf951ae26f94']),)}]\n"
     ]
    }
   ],
   "source": [
    "from langgraph.graph import StateGraph, END\n",
    "from langgraph.types import Command, interrupt\n",
    "from typing import TypedDict\n",
    "from langgraph.checkpoint.memory import MemorySaver\n",
    "\n",
    "class State(TypedDict):\n",
    "    value: str\n",
    "\n",
    "memory = MemorySaver()\n",
    "\n",
    "def node_a(state: State):\n",
    "    print(\"Node A\")\n",
    "    return Command(\n",
    "        goto =  \"node_b\",\n",
    "        update = {\n",
    "            \"value\": state[\"value\"] + \"A\",\n",
    "        }\n",
    "    )\n",
    "\n",
    "def node_b(state: State):\n",
    "    print(\"Node B\")\n",
    "    input = interrupt(\"Do you want to go to C or D? Type C/D\")\n",
    "\n",
    "    print(f\"Human review values: {input}\")\n",
    "    if(input == \"C\"):\n",
    "        return Command(\n",
    "            goto =\"node_c\",\n",
    "            update = {\n",
    "                \"value\": state[\"value\"] + \"B\"\n",
    "            }\n",
    "        )\n",
    "    elif(input == \"D\"):\n",
    "        return Command(\n",
    "            goto = \"node_d\",\n",
    "            update = {\n",
    "                \"value\": state[\"value\"] + \"B\"\n",
    "            }\n",
    "        )\n",
    "    else:\n",
    "        print(\"Invalid input, going to endpoint\")\n",
    "        return Command(\n",
    "            goto = END,\n",
    "            update = {\n",
    "                \"value\": state[\"value\"] + \"InvalidInput\"                                                                                                         \n",
    "            }\n",
    "        )                                                  \n",
    "\n",
    "\n",
    "def node_c(state: State):\n",
    "    print(\"Node_C\")\n",
    "    return Command(\n",
    "        goto = END,\n",
    "        update = {\n",
    "            \"value\": state[\"value\"] + \"C\"\n",
    "        }\n",
    "    )\n",
    "\n",
    "def node_d(state: State):\n",
    "    print(\"Node_D\")\n",
    "    return Command(\n",
    "        goto = END,\n",
    "        update = {\n",
    "            \"value\": state[\"value\"] + \"D\"\n",
    "        }\n",
    "    )\n",
    "\n",
    "graph = StateGraph(State)\n",
    "\n",
    "graph.add_node(\"node_a\", node_a)\n",
    "graph.add_node(\"node_b\", node_b)    \n",
    "graph.add_node(\"node_c\", node_c)\n",
    "graph.add_node(\"node_d\", node_d)   \n",
    "graph.set_entry_point(\"node_a\")\n",
    "\n",
    "app = graph.compile(checkpointer=memory)\n",
    "\n",
    "config = {\"configurable\": {\"thread_id\": \"1\"}}\n",
    "\n",
    "initial_state= {\n",
    "    \"value\": \"\"\n",
    "    }\n",
    "response = app.invoke(initial_state, config, stream_mode = \"updates\")\n",
    "\n",
    "print(response)\n"
   ]
  },
  {
   "cell_type": "code",
   "execution_count": 2,
   "id": "aa95efa0",
   "metadata": {},
   "outputs": [
    {
     "name": "stdout",
     "output_type": "stream",
     "text": [
      "('node_b',)\n"
     ]
    }
   ],
   "source": [
    "print(app.get_state(config).next)"
   ]
  },
  {
   "cell_type": "code",
   "execution_count": 3,
   "id": "9905d7f3",
   "metadata": {},
   "outputs": [
    {
     "name": "stdout",
     "output_type": "stream",
     "text": [
      "Node B\n",
      "Human review values: C\n",
      "Node_C\n"
     ]
    },
    {
     "data": {
      "text/plain": [
       "[{'node_b': {'value': 'AB'}}, {'node_c': {'value': 'ABC'}}]"
      ]
     },
     "execution_count": 3,
     "metadata": {},
     "output_type": "execute_result"
    }
   ],
   "source": [
    "second_result = app.invoke(Command(resume=\"C\"), config=config, stream_mode=\"updates\")\n",
    "second_result"
   ]
  },
  {
   "cell_type": "code",
   "execution_count": null,
   "id": "7b671ba8",
   "metadata": {},
   "outputs": [],
   "source": []
  }
 ],
 "metadata": {
  "kernelspec": {
   "display_name": "venv",
   "language": "python",
   "name": "python3"
  },
  "language_info": {
   "codemirror_mode": {
    "name": "ipython",
    "version": 3
   },
   "file_extension": ".py",
   "mimetype": "text/x-python",
   "name": "python",
   "nbconvert_exporter": "python",
   "pygments_lexer": "ipython3",
   "version": "3.10.11"
  }
 },
 "nbformat": 4,
 "nbformat_minor": 5
}
