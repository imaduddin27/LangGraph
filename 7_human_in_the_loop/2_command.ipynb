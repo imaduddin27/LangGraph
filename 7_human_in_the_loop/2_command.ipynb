{
 "cells": [
  {
   "cell_type": "code",
   "execution_count": null,
   "id": "2086deb0",
   "metadata": {},
   "outputs": [
    {
     "name": "stdout",
     "output_type": "stream",
     "text": [
      "Node A\n",
      "Node B\n",
      "Node C\n"
     ]
    },
    {
     "data": {
      "text/plain": [
       "{'text': 'ABC'}"
      ]
     },
     "execution_count": 5,
     "metadata": {},
     "output_type": "execute_result"
    }
   ],
   "source": [
    "from langgraph.graph import StateGraph, END\n",
    "from langgraph.types import Command\n",
    "from typing import TypedDict\n",
    "\n",
    "class State(TypedDict):\n",
    "    text: str\n",
    "\n",
    "def node_a(state: State):\n",
    "    print(\"Node A\")\n",
    "    return Command(goto = \"node_b\", update={\"text\": state[\"text\"] + \"A\"})\n",
    "\n",
    "def node_b(state: State):\n",
    "    print(\"Node B\")\n",
    "    return Command(goto = \"node_c\", update = {\"text\": state[\"text\"] + \"B\"})\n",
    "\n",
    "def node_c(state: State):\n",
    "    print(\"Node C\")\n",
    "    return Command(goto = END, update = {\"text\": state[\"text\"] + \"C\"})\n",
    "\n",
    "graph = StateGraph(State)\n",
    "graph.add_node(\"node_a\", node_a)\n",
    "graph.add_node(\"node_b\", node_b)\n",
    "graph.add_node(\"node_c\", node_c)\n",
    "graph.set_entry_point(\"node_a\") \n",
    "\n",
    "app = graph.compile()\n",
    "\n",
    "response= app.invoke({\n",
    "    \"text\" : \"\"\n",
    "})\n",
    "\n",
    "response"
   ]
  },
  {
   "cell_type": "code",
   "execution_count": null,
   "id": "2a981927",
   "metadata": {},
   "outputs": [],
   "source": []
  }
 ],
 "metadata": {
  "kernelspec": {
   "display_name": "venv",
   "language": "python",
   "name": "python3"
  },
  "language_info": {
   "codemirror_mode": {
    "name": "ipython",
    "version": 3
   },
   "file_extension": ".py",
   "mimetype": "text/x-python",
   "name": "python",
   "nbconvert_exporter": "python",
   "pygments_lexer": "ipython3",
   "version": "3.10.11"
  }
 },
 "nbformat": 4,
 "nbformat_minor": 5
}
